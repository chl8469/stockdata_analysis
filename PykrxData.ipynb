{
 "cells": [
  {
   "cell_type": "code",
   "execution_count": 1,
   "metadata": {
    "ExecuteTime": {
     "end_time": "2020-08-05T05:25:52.116073Z",
     "start_time": "2020-08-05T05:25:50.143167Z"
    }
   },
   "outputs": [],
   "source": [
    "import pandas as pd\n",
    "import numpy as np\n",
    "import matplotlib.pyplot as plt\n",
    "import time\n",
    "import h5py\n",
    "from pykrx import stock"
   ]
  },
  {
   "cell_type": "markdown",
   "metadata": {},
   "source": [
    "### 데이터 읽어오기"
   ]
  },
  {
   "cell_type": "code",
   "execution_count": 15,
   "metadata": {
    "ExecuteTime": {
     "end_time": "2020-08-05T06:19:52.093781Z",
     "start_time": "2020-08-05T06:19:52.071744Z"
    }
   },
   "outputs": [
    {
     "data": {
      "text/html": [
       "<div>\n",
       "<style scoped>\n",
       "    .dataframe tbody tr th:only-of-type {\n",
       "        vertical-align: middle;\n",
       "    }\n",
       "\n",
       "    .dataframe tbody tr th {\n",
       "        vertical-align: top;\n",
       "    }\n",
       "\n",
       "    .dataframe thead th {\n",
       "        text-align: right;\n",
       "    }\n",
       "</style>\n",
       "<table border=\"1\" class=\"dataframe\">\n",
       "  <thead>\n",
       "    <tr style=\"text-align: right;\">\n",
       "      <th></th>\n",
       "      <th>회사명</th>\n",
       "      <th>종목번호</th>\n",
       "    </tr>\n",
       "  </thead>\n",
       "  <tbody>\n",
       "    <tr>\n",
       "      <td>0</td>\n",
       "      <td>3S</td>\n",
       "      <td>060310</td>\n",
       "    </tr>\n",
       "    <tr>\n",
       "      <td>1</td>\n",
       "      <td>AJ네트웍스</td>\n",
       "      <td>095570</td>\n",
       "    </tr>\n",
       "    <tr>\n",
       "      <td>2</td>\n",
       "      <td>AK홀딩스</td>\n",
       "      <td>006840</td>\n",
       "    </tr>\n",
       "    <tr>\n",
       "      <td>3</td>\n",
       "      <td>APS홀딩스</td>\n",
       "      <td>054620</td>\n",
       "    </tr>\n",
       "    <tr>\n",
       "      <td>4</td>\n",
       "      <td>AP시스템</td>\n",
       "      <td>265520</td>\n",
       "    </tr>\n",
       "  </tbody>\n",
       "</table>\n",
       "</div>"
      ],
      "text/plain": [
       "      회사명    종목번호\n",
       "0      3S  060310\n",
       "1  AJ네트웍스  095570\n",
       "2   AK홀딩스  006840\n",
       "3  APS홀딩스  054620\n",
       "4   AP시스템  265520"
      ]
     },
     "execution_count": 15,
     "metadata": {},
     "output_type": "execute_result"
    }
   ],
   "source": [
    "company = pd.read_csv(\"./KOSPIcompany.csv\") # 회사명 - 종목번호 csv파일\n",
    "company.head()"
   ]
  },
  {
   "cell_type": "code",
   "execution_count": 56,
   "metadata": {
    "ExecuteTime": {
     "end_time": "2020-08-05T07:03:40.113734Z",
     "start_time": "2020-08-05T07:03:40.101737Z"
    }
   },
   "outputs": [],
   "source": [
    "stock_data = h5py.File(\"/Users/hwarang/Desktop/Stockprediction_proj/StockData.hdf5\", 'r') # 주가자료 파일"
   ]
  },
  {
   "cell_type": "markdown",
   "metadata": {},
   "source": [
    "StockData.hdf5 => /KOSPI/종목번호/(values, date)<br>\n",
    "위와같은 계층구조로 되어 있고 KOSPI와 각 종목번호는 메타데이터를 가지고 있습니다.<br>\n",
    "KOSPI는 desription과 각 종목들의 주가 데이터중 column에 해당하는 value_names를 가지고 있습니다.<br>\n",
    "각 종목번호는 kr_name이라는 메타데이터를 가지고 있으며 해당 종목번호의 회사명입니다."
   ]
  },
  {
   "cell_type": "code",
   "execution_count": 142,
   "metadata": {
    "ExecuteTime": {
     "end_time": "2020-08-05T08:45:02.732844Z",
     "start_time": "2020-08-05T08:45:02.714678Z"
    }
   },
   "outputs": [
    {
     "name": "stdout",
     "output_type": "stream",
     "text": [
      "<KeysViewHDF5 ['description', 'value_names']>\n"
     ]
    }
   ],
   "source": [
    "stock_data.attrs.keys() # 가지고 있는 attrs값 확인"
   ]
  },
  {
   "cell_type": "code",
   "execution_count": 105,
   "metadata": {
    "ExecuteTime": {
     "end_time": "2020-08-05T07:53:14.916156Z",
     "start_time": "2020-08-05T07:53:14.900545Z"
    }
   },
   "outputs": [
    {
     "name": "stdout",
     "output_type": "stream",
     "text": [
      "\n",
      "    주식시장 자료 일간격 시세\n",
      "    /KOSPI/종목번호/values = (n/5)차원 데이터\n",
      "    Open, High, Low, Close, Volume 순서대로\n",
      "    시가, 고가, 저가, 종가, 거래량\n",
      "    /KOSPI/종목번호/date = 날짜\n",
      "    \n"
     ]
    }
   ],
   "source": [
    "print(stock_data.attrs['description']) # metadata 호출"
   ]
  },
  {
   "cell_type": "code",
   "execution_count": 108,
   "metadata": {
    "ExecuteTime": {
     "end_time": "2020-08-05T08:23:13.232259Z",
     "start_time": "2020-08-05T08:23:13.222248Z"
    }
   },
   "outputs": [
    {
     "name": "stdout",
     "output_type": "stream",
     "text": [
      "['Open' 'High' 'Low' 'Close' 'Volume']\n"
     ]
    }
   ],
   "source": [
    "print(stock_data.attrs['value_names'])"
   ]
  },
  {
   "cell_type": "code",
   "execution_count": null,
   "metadata": {},
   "outputs": [],
   "source": []
  },
  {
   "cell_type": "code",
   "execution_count": null,
   "metadata": {},
   "outputs": [],
   "source": []
  },
  {
   "cell_type": "markdown",
   "metadata": {},
   "source": [
    "총 2472개의 회사 중 데이터가 없는 회사가 2곳 있었는데 두 곳 모두 2020년 8월 5일 처음 상장된 회사였습니다. 따라서 총 2470곳의 주가 데이터를 수집했습니다."
   ]
  },
  {
   "cell_type": "code",
   "execution_count": 23,
   "metadata": {
    "ExecuteTime": {
     "end_time": "2020-08-05T06:29:01.912506Z",
     "start_time": "2020-08-05T06:29:01.901536Z"
    }
   },
   "outputs": [
    {
     "data": {
      "text/plain": [
       "<HDF5 group \"/KOSPI\" (2470 members)>"
      ]
     },
     "execution_count": 23,
     "metadata": {},
     "output_type": "execute_result"
    }
   ],
   "source": [
    "stock_data['KOSPI']"
   ]
  },
  {
   "cell_type": "code",
   "execution_count": 38,
   "metadata": {
    "ExecuteTime": {
     "end_time": "2020-08-05T06:32:34.378765Z",
     "start_time": "2020-08-05T06:32:34.362830Z"
    }
   },
   "outputs": [
    {
     "data": {
      "text/plain": [
       "'AK홀딩스'"
      ]
     },
     "execution_count": 38,
     "metadata": {},
     "output_type": "execute_result"
    }
   ],
   "source": [
    "stock_data['/KOSPI/006840'].attrs['kr_name'] # 해당 종목번호의 회사명 출력해보기"
   ]
  },
  {
   "cell_type": "code",
   "execution_count": 88,
   "metadata": {
    "ExecuteTime": {
     "end_time": "2020-08-05T07:22:41.313430Z",
     "start_time": "2020-08-05T07:22:41.292466Z"
    }
   },
   "outputs": [
    {
     "data": {
      "text/html": [
       "<div>\n",
       "<style scoped>\n",
       "    .dataframe tbody tr th:only-of-type {\n",
       "        vertical-align: middle;\n",
       "    }\n",
       "\n",
       "    .dataframe tbody tr th {\n",
       "        vertical-align: top;\n",
       "    }\n",
       "\n",
       "    .dataframe thead th {\n",
       "        text-align: right;\n",
       "    }\n",
       "</style>\n",
       "<table border=\"1\" class=\"dataframe\">\n",
       "  <thead>\n",
       "    <tr style=\"text-align: right;\">\n",
       "      <th></th>\n",
       "      <th>회사명</th>\n",
       "      <th>종목번호</th>\n",
       "    </tr>\n",
       "  </thead>\n",
       "  <tbody>\n",
       "    <tr>\n",
       "      <td>792</td>\n",
       "      <td>미래에셋맵스리츠</td>\n",
       "      <td>357250</td>\n",
       "    </tr>\n",
       "    <tr>\n",
       "      <td>1706</td>\n",
       "      <td>이지스레지던스리츠</td>\n",
       "      <td>350520</td>\n",
       "    </tr>\n",
       "  </tbody>\n",
       "</table>\n",
       "</div>"
      ],
      "text/plain": [
       "            회사명    종목번호\n",
       "792    미래에셋맵스리츠  357250\n",
       "1706  이지스레지던스리츠  350520"
      ]
     },
     "execution_count": 88,
     "metadata": {},
     "output_type": "execute_result"
    }
   ],
   "source": [
    "company[(company['종목번호'] == '357250') | (company['종목번호'] == '350520')]"
   ]
  },
  {
   "cell_type": "code",
   "execution_count": null,
   "metadata": {},
   "outputs": [],
   "source": []
  },
  {
   "cell_type": "markdown",
   "metadata": {},
   "source": [
    "8월 5일에 상장하여 데이터가 없는 두 회사를 제외하고 나머지 회사들의 주가 데이터중 누락값이 있는지 확인합니다."
   ]
  },
  {
   "cell_type": "code",
   "execution_count": 95,
   "metadata": {
    "ExecuteTime": {
     "end_time": "2020-08-05T07:28:23.677687Z",
     "start_time": "2020-08-05T07:28:23.667686Z"
    }
   },
   "outputs": [],
   "source": [
    "company_ = company[~((company['종목번호'] == '357250') | (company['종목번호'] == '350520'))].reset_index(drop=True)"
   ]
  },
  {
   "cell_type": "code",
   "execution_count": 97,
   "metadata": {
    "ExecuteTime": {
     "end_time": "2020-08-05T07:28:26.327670Z",
     "start_time": "2020-08-05T07:28:25.506931Z"
    }
   },
   "outputs": [],
   "source": [
    "isnull = []\n",
    "for i in company_['종목번호']:\n",
    "    isnull.append(np.sum(np.isnan(stock_data[f'/KOSPI/{i}/values'][:])))"
   ]
  },
  {
   "cell_type": "code",
   "execution_count": 99,
   "metadata": {
    "ExecuteTime": {
     "end_time": "2020-08-05T07:28:39.249015Z",
     "start_time": "2020-08-05T07:28:39.232060Z"
    }
   },
   "outputs": [
    {
     "data": {
      "text/plain": [
       "0"
      ]
     },
     "execution_count": 99,
     "metadata": {},
     "output_type": "execute_result"
    }
   ],
   "source": [
    "np.sum(isnull) # 누락값 없음"
   ]
  },
  {
   "cell_type": "code",
   "execution_count": null,
   "metadata": {},
   "outputs": [],
   "source": []
  },
  {
   "cell_type": "code",
   "execution_count": null,
   "metadata": {},
   "outputs": [],
   "source": []
  },
  {
   "cell_type": "code",
   "execution_count": null,
   "metadata": {},
   "outputs": [],
   "source": []
  },
  {
   "cell_type": "markdown",
   "metadata": {},
   "source": [
    "### 받아온 주가 자료료 임의의 회사 주가 시계열 그려보기"
   ]
  },
  {
   "cell_type": "code",
   "execution_count": 131,
   "metadata": {
    "ExecuteTime": {
     "end_time": "2020-08-05T08:31:46.343403Z",
     "start_time": "2020-08-05T08:31:46.319467Z"
    }
   },
   "outputs": [],
   "source": [
    "_006840 = pd.DataFrame(stock_data['/KOSPI/006840/values'][:], \n",
    "                       index = pd.to_datetime(stock_data['/KOSPI/006840/date'][:]),\n",
    "                       columns = stock_data.attrs['value_names'])"
   ]
  },
  {
   "cell_type": "code",
   "execution_count": 132,
   "metadata": {
    "ExecuteTime": {
     "end_time": "2020-08-05T08:31:54.028655Z",
     "start_time": "2020-08-05T08:31:54.016169Z"
    }
   },
   "outputs": [
    {
     "data": {
      "text/html": [
       "<div>\n",
       "<style scoped>\n",
       "    .dataframe tbody tr th:only-of-type {\n",
       "        vertical-align: middle;\n",
       "    }\n",
       "\n",
       "    .dataframe tbody tr th {\n",
       "        vertical-align: top;\n",
       "    }\n",
       "\n",
       "    .dataframe thead th {\n",
       "        text-align: right;\n",
       "    }\n",
       "</style>\n",
       "<table border=\"1\" class=\"dataframe\">\n",
       "  <thead>\n",
       "    <tr style=\"text-align: right;\">\n",
       "      <th></th>\n",
       "      <th>Open</th>\n",
       "      <th>High</th>\n",
       "      <th>Low</th>\n",
       "      <th>Close</th>\n",
       "      <th>Volume</th>\n",
       "    </tr>\n",
       "  </thead>\n",
       "  <tbody>\n",
       "    <tr>\n",
       "      <td>2000-01-04</td>\n",
       "      <td>19533</td>\n",
       "      <td>21381</td>\n",
       "      <td>19533</td>\n",
       "      <td>20474</td>\n",
       "      <td>11830</td>\n",
       "    </tr>\n",
       "    <tr>\n",
       "      <td>2000-01-05</td>\n",
       "      <td>19722</td>\n",
       "      <td>20599</td>\n",
       "      <td>19409</td>\n",
       "      <td>20443</td>\n",
       "      <td>9810</td>\n",
       "    </tr>\n",
       "    <tr>\n",
       "      <td>2000-01-06</td>\n",
       "      <td>20536</td>\n",
       "      <td>20974</td>\n",
       "      <td>19721</td>\n",
       "      <td>20600</td>\n",
       "      <td>31620</td>\n",
       "    </tr>\n",
       "    <tr>\n",
       "      <td>2000-01-07</td>\n",
       "      <td>20034</td>\n",
       "      <td>22852</td>\n",
       "      <td>20034</td>\n",
       "      <td>21914</td>\n",
       "      <td>50840</td>\n",
       "    </tr>\n",
       "    <tr>\n",
       "      <td>2000-01-10</td>\n",
       "      <td>22601</td>\n",
       "      <td>24417</td>\n",
       "      <td>21913</td>\n",
       "      <td>24357</td>\n",
       "      <td>80250</td>\n",
       "    </tr>\n",
       "  </tbody>\n",
       "</table>\n",
       "</div>"
      ],
      "text/plain": [
       "             Open   High    Low  Close  Volume\n",
       "2000-01-04  19533  21381  19533  20474   11830\n",
       "2000-01-05  19722  20599  19409  20443    9810\n",
       "2000-01-06  20536  20974  19721  20600   31620\n",
       "2000-01-07  20034  22852  20034  21914   50840\n",
       "2000-01-10  22601  24417  21913  24357   80250"
      ]
     },
     "execution_count": 132,
     "metadata": {},
     "output_type": "execute_result"
    }
   ],
   "source": [
    "_006840.head()"
   ]
  },
  {
   "cell_type": "code",
   "execution_count": 140,
   "metadata": {
    "ExecuteTime": {
     "end_time": "2020-08-05T08:34:13.125369Z",
     "start_time": "2020-08-05T08:34:12.932719Z"
    }
   },
   "outputs": [
    {
     "data": {
      "text/plain": [
       "Text(0.5, 1.0, 'AK holdings')"
      ]
     },
     "execution_count": 140,
     "metadata": {},
     "output_type": "execute_result"
    },
    {
     "data": {
      "image/png": "[encoded data removed]",
      "text/plain": [
       "<Figure size 720x360 with 1 Axes>"
      ]
     },
     "metadata": {
      "needs_background": "light"
     },
     "output_type": "display_data"
    }
   ],
   "source": [
    "plt.figure(figsize = (10, 5))\n",
    "plt.plot(_006840['2011-01-01':]['Close']) # 2011년 1월 1일부터 현재까지 그리기\n",
    "plt.grid(ls = \"--\")\n",
    "plt.title(\"AK holdings\")"
   ]
  },
  {
   "cell_type": "code",
   "execution_count": null,
   "metadata": {},
   "outputs": [],
   "source": []
  },
  {
   "cell_type": "markdown",
   "metadata": {},
   "source": [
    "### AK홀딩스 네이버 증권정보"
   ]
  },
  {
   "cell_type": "markdown",
   "metadata": {},
   "source": [
    "<img src=./images/006840_search.png width=600 align=left>"
   ]
  },
  {
   "cell_type": "code",
   "execution_count": null,
   "metadata": {},
   "outputs": [],
   "source": []
  }
 ],
 "metadata": {
  "hide_input": false,
  "kernelspec": {
   "display_name": "Python 3",
   "language": "python",
   "name": "python3"
  },
  "language_info": {
   "codemirror_mode": {
    "name": "ipython",
    "version": 3
   },
   "file_extension": ".py",
   "mimetype": "text/x-python",
   "name": "python",
   "nbconvert_exporter": "python",
   "pygments_lexer": "ipython3",
   "version": "3.7.4"
  },
  "toc": {
   "base_numbering": 1,
   "nav_menu": {},
   "number_sections": true,
   "sideBar": true,
   "skip_h1_title": false,
   "title_cell": "Table of Contents",
   "title_sidebar": "Contents",
   "toc_cell": false,
   "toc_position": {},
   "toc_section_display": true,
   "toc_window_display": false
  },
  "varInspector": {
   "cols": {
    "lenName": 16,
    "lenType": 16,
    "lenVar": 40
   },
   "kernels_config": {
    "python": {
     "delete_cmd_postfix": "",
     "delete_cmd_prefix": "del ",
     "library": "var_list.py",
     "varRefreshCmd": "print(var_dic_list())"
    },
    "r": {
     "delete_cmd_postfix": ") ",
     "delete_cmd_prefix": "rm(",
     "library": "var_list.r",
     "varRefreshCmd": "cat(var_dic_list()) "
    }
   },
   "types_to_exclude": [
    "module",
    "function",
    "builtin_function_or_method",
    "instance",
    "_Feature"
   ],
   "window_display": false
  }
 },
 "nbformat": 4,
 "nbformat_minor": 2
}
